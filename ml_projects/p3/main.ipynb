{
 "metadata": {
  "language_info": {
   "codemirror_mode": {
    "name": "ipython",
    "version": 3
   },
   "file_extension": ".py",
   "mimetype": "text/x-python",
   "name": "python",
   "nbconvert_exporter": "python",
   "pygments_lexer": "ipython3",
   "version": "3.7.7-final"
  },
  "orig_nbformat": 2,
  "kernelspec": {
   "name": "python37764bitlearnenvconda7200d089ff5440f58ad0a80e6cf1441c",
   "display_name": "Python 3.7.7 64-bit ('learn_env': conda)"
  }
 },
 "nbformat": 4,
 "nbformat_minor": 2,
 "cells": [
  {
   "cell_type": "code",
   "execution_count": 19,
   "metadata": {},
   "outputs": [],
   "source": [
    "import tensorflow as tf\n",
    "from tensorflow.keras.utils import *\n",
    "import numpy as np\n",
    "\n",
    "(x_train,y_train) , (x_pred,y_pred) = tf.keras.datasets.mnist.load_data()\n",
    "\n",
    "x_train = x_train.reshape(60000,28,28,1)\n",
    "x_pred = x_pred.reshape(10000,28,28,1)\n",
    "y_train = to_categorical(y_train)\n",
    "y_pred = to_categorical(y_pred)\n",
    "\n",
    "x_train = x_train.astype('float32') / 255.0\n",
    "x_pred = x_pred.astype('float32') / 255.0"
   ]
  },
  {
   "cell_type": "code",
   "execution_count": 20,
   "metadata": {},
   "outputs": [],
   "source": [
    "in_keras = tf.keras.Input(x_train.shape[1:], dtype=tf.float32)\n",
    "con1 = tf.keras.layers.Conv2D(filters=64, kernel_size=(5,5), padding='valid', activation='relu')(in_keras)\n",
    "pol1 = tf.keras.layers.MaxPool2D(pool_size=(2,2))(con1)\n",
    "con2 = tf.keras.layers.Conv2D(filters=64, kernel_size=(5,5), padding='valid', activation='relu')(pol1)\n",
    "pol2 = tf.keras.layers.MaxPool2D(pool_size=(2,2))(con2)\n",
    "drop = tf.keras.layers.Dropout(0.5)(pol2)\n",
    "flat = tf.keras.layers.Flatten()(drop)\n",
    "den1 = tf.keras.layers.Dense(120, activation='tanh')(flat)\n",
    "den2 = tf.keras.layers.Dense(84, activation='tanh')(den1)\n",
    "ot_keras = tf.keras.layers.Dense(y_train.shape[1], activation='softmax')(den2)\n",
    "\n",
    "model_keras = tf.keras.Model(inputs=in_keras, outputs=ot_keras)\n",
    "\n",
    "model_keras.compile(loss='categorical_crossentropy', optimizer='adam', metrics=['accuracy'])\n"
   ]
  },
  {
   "cell_type": "code",
   "execution_count": 21,
   "metadata": {},
   "outputs": [
    {
     "output_type": "stream",
     "name": "stdout",
     "text": [
      "Epoch 1/10\n",
      "422/422 [==============================] - 17s 41ms/step - loss: 0.2131 - accuracy: 0.9371 - val_loss: 0.0502 - val_accuracy: 0.9857\n",
      "Epoch 2/10\n",
      "422/422 [==============================] - 17s 41ms/step - loss: 0.0692 - accuracy: 0.9784 - val_loss: 0.0365 - val_accuracy: 0.9892\n",
      "Epoch 3/10\n",
      "422/422 [==============================] - 17s 40ms/step - loss: 0.0503 - accuracy: 0.9843 - val_loss: 0.0358 - val_accuracy: 0.9897\n",
      "Epoch 4/10\n",
      "422/422 [==============================] - 17s 40ms/step - loss: 0.0405 - accuracy: 0.9866 - val_loss: 0.0307 - val_accuracy: 0.9903\n",
      "Epoch 5/10\n",
      "422/422 [==============================] - 23s 54ms/step - loss: 0.0355 - accuracy: 0.9889 - val_loss: 0.0305 - val_accuracy: 0.9913\n",
      "Epoch 6/10\n",
      "422/422 [==============================] - 16s 38ms/step - loss: 0.0316 - accuracy: 0.9894 - val_loss: 0.0281 - val_accuracy: 0.9925\n",
      "Epoch 7/10\n",
      "422/422 [==============================] - 15s 37ms/step - loss: 0.0290 - accuracy: 0.9906 - val_loss: 0.0263 - val_accuracy: 0.9925\n",
      "Epoch 8/10\n",
      "422/422 [==============================] - 15s 37ms/step - loss: 0.0267 - accuracy: 0.9913 - val_loss: 0.0261 - val_accuracy: 0.9917\n",
      "Epoch 9/10\n",
      "422/422 [==============================] - 15s 36ms/step - loss: 0.0244 - accuracy: 0.9920 - val_loss: 0.0284 - val_accuracy: 0.9923\n",
      "Epoch 10/10\n",
      "422/422 [==============================] - 15s 36ms/step - loss: 0.0220 - accuracy: 0.9928 - val_loss: 0.0262 - val_accuracy: 0.9922\n",
      "313/313 [==============================] - 1s 3ms/step - loss: 0.0231 - accuracy: 0.9927\n"
     ]
    }
   ],
   "source": [
    "batch = 128\n",
    "epoch = 10\n",
    "n_class = 10\n",
    "train = model_keras.fit(x_train, y_train, epochs=epoch, batch_size=batch, validation_split=0.1)\n",
    "\n",
    "res = model_keras.evaluate(x_pred, y_pred)"
   ]
  }
 ]
}