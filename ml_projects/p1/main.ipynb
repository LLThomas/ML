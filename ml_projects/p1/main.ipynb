{
 "metadata": {
  "language_info": {
   "codemirror_mode": {
    "name": "ipython",
    "version": 3
   },
   "file_extension": ".py",
   "mimetype": "text/x-python",
   "name": "python",
   "nbconvert_exporter": "python",
   "pygments_lexer": "ipython3",
   "version": "3.8.3-final"
  },
  "orig_nbformat": 2,
  "kernelspec": {
   "name": "python3",
   "display_name": "Python 3"
  }
 },
 "nbformat": 4,
 "nbformat_minor": 2,
 "cells": [
  {
   "cell_type": "code",
   "execution_count": 12,
   "metadata": {},
   "outputs": [
    {
     "output_type": "execute_result",
     "data": {
      "text/plain": [
       "0.9666666666666667"
      ]
     },
     "metadata": {},
     "execution_count": 12
    }
   ],
   "source": [
    "import pandas as pd\n",
    "import numpy as np\n",
    "from sklearn.neural_network import MLPClassifier\n",
    "\n",
    "# getdata\n",
    "df_raw = pd.read_csv('/Users/thomas/Desktop/projects/ml_projects/p1/iris.data', header=None, names=['len_sep', 'wid_sep', 'len_pet', 'wid_pet', 'cla'])\n",
    "\n",
    "# rearrangement\n",
    "np.random.seed(1)\n",
    "data_standard = np.random.permutation(int(len(data_raw)))\n",
    "df_data = df_raw.take(data_standard)\n",
    "\n",
    "# training_data : predict_data = 8 : 2\n",
    "training_data , predict_data = df_data[:int(len(df_data)*0.8)] , df_data[int(len(df_data)*0.8):]\n",
    "training_data = np.array(training_data)\n",
    "predict_data = np.array(predict_data)\n",
    "\n",
    "# train\n",
    "mlp_model = MLPClassifier(random_state=1, max_iter=300).fit(training_data[:,:-1],training_data[:,-1])\n",
    "\n",
    "# score\n",
    "mlp_model.score(predict_data[:,:-1], predict_data[:,-1])\n",
    "\n"
   ]
  },
  {
   "cell_type": "code",
   "execution_count": null,
   "metadata": {},
   "outputs": [],
   "source": []
  }
 ]
}